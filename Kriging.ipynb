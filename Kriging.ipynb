{
  "nbformat": 4,
  "nbformat_minor": 0,
  "metadata": {
    "colab": {
      "name": "Kriging.ipynb",
      "provenance": [],
      "authorship_tag": "ABX9TyM+JSkIw4tt59NZlun+K2Io",
      "include_colab_link": true
    },
    "kernelspec": {
      "name": "python3",
      "display_name": "Python 3"
    },
    "language_info": {
      "name": "python"
    }
  },
  "cells": [
    {
      "cell_type": "markdown",
      "metadata": {
        "id": "view-in-github",
        "colab_type": "text"
      },
      "source": [
        "<a href=\"https://colab.research.google.com/github/afrojaakter/Surrogate-Based-Optimization/blob/main/Kriging.ipynb\" target=\"_parent\"><img src=\"https://colab.research.google.com/assets/colab-badge.svg\" alt=\"Open In Colab\"/></a>"
      ]
    },
    {
      "cell_type": "code",
      "metadata": {
        "colab": {
          "base_uri": "https://localhost:8080/"
        },
        "id": "3zjOuFLNCNTM",
        "outputId": "f7ea66f7-70f4-4370-93da-2cc4c1ed26e9"
      },
      "source": [
        "!pip install smt"
      ],
      "execution_count": 4,
      "outputs": [
        {
          "output_type": "stream",
          "text": [
            "Collecting smt\n",
            "  Downloading smt-1.0.0.tar.gz (248 kB)\n",
            "\u001b[?25l\r\u001b[K     |█▎                              | 10 kB 24.2 MB/s eta 0:00:01\r\u001b[K     |██▋                             | 20 kB 9.7 MB/s eta 0:00:01\r\u001b[K     |████                            | 30 kB 6.2 MB/s eta 0:00:01\r\u001b[K     |█████▎                          | 40 kB 5.6 MB/s eta 0:00:01\r\u001b[K     |██████▋                         | 51 kB 2.7 MB/s eta 0:00:01\r\u001b[K     |████████                        | 61 kB 3.0 MB/s eta 0:00:01\r\u001b[K     |█████████▎                      | 71 kB 3.2 MB/s eta 0:00:01\r\u001b[K     |██████████▋                     | 81 kB 3.5 MB/s eta 0:00:01\r\u001b[K     |███████████▉                    | 92 kB 3.8 MB/s eta 0:00:01\r\u001b[K     |█████████████▏                  | 102 kB 3.9 MB/s eta 0:00:01\r\u001b[K     |██████████████▌                 | 112 kB 3.9 MB/s eta 0:00:01\r\u001b[K     |███████████████▉                | 122 kB 3.9 MB/s eta 0:00:01\r\u001b[K     |█████████████████▏              | 133 kB 3.9 MB/s eta 0:00:01\r\u001b[K     |██████████████████▌             | 143 kB 3.9 MB/s eta 0:00:01\r\u001b[K     |███████████████████▉            | 153 kB 3.9 MB/s eta 0:00:01\r\u001b[K     |█████████████████████▏          | 163 kB 3.9 MB/s eta 0:00:01\r\u001b[K     |██████████████████████▍         | 174 kB 3.9 MB/s eta 0:00:01\r\u001b[K     |███████████████████████▊        | 184 kB 3.9 MB/s eta 0:00:01\r\u001b[K     |█████████████████████████       | 194 kB 3.9 MB/s eta 0:00:01\r\u001b[K     |██████████████████████████▍     | 204 kB 3.9 MB/s eta 0:00:01\r\u001b[K     |███████████████████████████▊    | 215 kB 3.9 MB/s eta 0:00:01\r\u001b[K     |█████████████████████████████   | 225 kB 3.9 MB/s eta 0:00:01\r\u001b[K     |██████████████████████████████▍ | 235 kB 3.9 MB/s eta 0:00:01\r\u001b[K     |███████████████████████████████▊| 245 kB 3.9 MB/s eta 0:00:01\r\u001b[K     |████████████████████████████████| 248 kB 3.9 MB/s \n",
            "\u001b[?25h  Installing build dependencies ... \u001b[?25l\u001b[?25hdone\n",
            "  Getting requirements to build wheel ... \u001b[?25l\u001b[?25hdone\n",
            "    Preparing wheel metadata ... \u001b[?25l\u001b[?25hdone\n",
            "Requirement already satisfied: packaging in /usr/local/lib/python3.7/dist-packages (from smt) (21.0)\n",
            "Requirement already satisfied: scikit-learn in /usr/local/lib/python3.7/dist-packages (from smt) (0.22.2.post1)\n",
            "Collecting numpydoc\n",
            "  Downloading numpydoc-1.1.0-py3-none-any.whl (47 kB)\n",
            "\u001b[K     |████████████████████████████████| 47 kB 2.8 MB/s \n",
            "\u001b[?25hRequirement already satisfied: scipy in /usr/local/lib/python3.7/dist-packages (from smt) (1.4.1)\n",
            "Collecting pyDOE2\n",
            "  Downloading pyDOE2-1.3.0.tar.gz (19 kB)\n",
            "Requirement already satisfied: matplotlib in /usr/local/lib/python3.7/dist-packages (from smt) (3.2.2)\n",
            "Requirement already satisfied: python-dateutil>=2.1 in /usr/local/lib/python3.7/dist-packages (from matplotlib->smt) (2.8.1)\n",
            "Requirement already satisfied: cycler>=0.10 in /usr/local/lib/python3.7/dist-packages (from matplotlib->smt) (0.10.0)\n",
            "Requirement already satisfied: kiwisolver>=1.0.1 in /usr/local/lib/python3.7/dist-packages (from matplotlib->smt) (1.3.1)\n",
            "Requirement already satisfied: numpy>=1.11 in /usr/local/lib/python3.7/dist-packages (from matplotlib->smt) (1.19.5)\n",
            "Requirement already satisfied: pyparsing!=2.0.4,!=2.1.2,!=2.1.6,>=2.0.1 in /usr/local/lib/python3.7/dist-packages (from matplotlib->smt) (2.4.7)\n",
            "Requirement already satisfied: six in /usr/local/lib/python3.7/dist-packages (from cycler>=0.10->matplotlib->smt) (1.15.0)\n",
            "Requirement already satisfied: sphinx>=1.6.5 in /usr/local/lib/python3.7/dist-packages (from numpydoc->smt) (1.8.5)\n",
            "Requirement already satisfied: Jinja2>=2.3 in /usr/local/lib/python3.7/dist-packages (from numpydoc->smt) (2.11.3)\n",
            "Requirement already satisfied: MarkupSafe>=0.23 in /usr/local/lib/python3.7/dist-packages (from Jinja2>=2.3->numpydoc->smt) (2.0.1)\n",
            "Requirement already satisfied: sphinxcontrib-websupport in /usr/local/lib/python3.7/dist-packages (from sphinx>=1.6.5->numpydoc->smt) (1.2.4)\n",
            "Requirement already satisfied: alabaster<0.8,>=0.7 in /usr/local/lib/python3.7/dist-packages (from sphinx>=1.6.5->numpydoc->smt) (0.7.12)\n",
            "Requirement already satisfied: requests>=2.0.0 in /usr/local/lib/python3.7/dist-packages (from sphinx>=1.6.5->numpydoc->smt) (2.23.0)\n",
            "Requirement already satisfied: Pygments>=2.0 in /usr/local/lib/python3.7/dist-packages (from sphinx>=1.6.5->numpydoc->smt) (2.6.1)\n",
            "Requirement already satisfied: babel!=2.0,>=1.3 in /usr/local/lib/python3.7/dist-packages (from sphinx>=1.6.5->numpydoc->smt) (2.9.1)\n",
            "Requirement already satisfied: docutils>=0.11 in /usr/local/lib/python3.7/dist-packages (from sphinx>=1.6.5->numpydoc->smt) (0.17.1)\n",
            "Requirement already satisfied: setuptools in /usr/local/lib/python3.7/dist-packages (from sphinx>=1.6.5->numpydoc->smt) (57.2.0)\n",
            "Requirement already satisfied: snowballstemmer>=1.1 in /usr/local/lib/python3.7/dist-packages (from sphinx>=1.6.5->numpydoc->smt) (2.1.0)\n",
            "Requirement already satisfied: imagesize in /usr/local/lib/python3.7/dist-packages (from sphinx>=1.6.5->numpydoc->smt) (1.2.0)\n",
            "Requirement already satisfied: pytz>=2015.7 in /usr/local/lib/python3.7/dist-packages (from babel!=2.0,>=1.3->sphinx>=1.6.5->numpydoc->smt) (2018.9)\n",
            "Requirement already satisfied: idna<3,>=2.5 in /usr/local/lib/python3.7/dist-packages (from requests>=2.0.0->sphinx>=1.6.5->numpydoc->smt) (2.10)\n",
            "Requirement already satisfied: certifi>=2017.4.17 in /usr/local/lib/python3.7/dist-packages (from requests>=2.0.0->sphinx>=1.6.5->numpydoc->smt) (2021.5.30)\n",
            "Requirement already satisfied: urllib3!=1.25.0,!=1.25.1,<1.26,>=1.21.1 in /usr/local/lib/python3.7/dist-packages (from requests>=2.0.0->sphinx>=1.6.5->numpydoc->smt) (1.24.3)\n",
            "Requirement already satisfied: chardet<4,>=3.0.2 in /usr/local/lib/python3.7/dist-packages (from requests>=2.0.0->sphinx>=1.6.5->numpydoc->smt) (3.0.4)\n",
            "Requirement already satisfied: joblib>=0.11 in /usr/local/lib/python3.7/dist-packages (from scikit-learn->smt) (1.0.1)\n",
            "Requirement already satisfied: sphinxcontrib-serializinghtml in /usr/local/lib/python3.7/dist-packages (from sphinxcontrib-websupport->sphinx>=1.6.5->numpydoc->smt) (1.1.5)\n",
            "Building wheels for collected packages: smt, pyDOE2\n",
            "  Building wheel for smt (PEP 517) ... \u001b[?25l\u001b[?25hdone\n",
            "  Created wheel for smt: filename=smt-1.0.0-cp37-cp37m-linux_x86_64.whl size=522117 sha256=b576a8e86ca8054e7e7eba53735a5d615331c83e5ad817d649ca6873c00f07ea\n",
            "  Stored in directory: /root/.cache/pip/wheels/42/e6/ef/c78c5dc521a6d99898ea8842ffcdfb4d8854f39af1a438bc7a\n",
            "  Building wheel for pyDOE2 (setup.py) ... \u001b[?25l\u001b[?25hdone\n",
            "  Created wheel for pyDOE2: filename=pyDOE2-1.3.0-py3-none-any.whl size=25538 sha256=0704d6ae6090ab675c2bb3cb0c3f2ca8095953f6adfd8797894669d73971bb9e\n",
            "  Stored in directory: /root/.cache/pip/wheels/49/91/2d/d08e80806bf7756193541f6c03c0492af288fcd6158d3d0998\n",
            "Successfully built smt pyDOE2\n",
            "Installing collected packages: pyDOE2, numpydoc, smt\n",
            "Successfully installed numpydoc-1.1.0 pyDOE2-1.3.0 smt-1.0.0\n"
          ],
          "name": "stdout"
        }
      ]
    },
    {
      "cell_type": "code",
      "metadata": {
        "colab": {
          "base_uri": "https://localhost:8080/",
          "height": 937
        },
        "id": "quggYsgeBzyp",
        "outputId": "f0d9bb3c-d4ed-4768-9f75-c7f717146867"
      },
      "source": [
        "import numpy as np\n",
        "import matplotlib.pyplot as plt\n",
        "\n",
        "from smt.surrogate_models import KRG\n",
        "\n",
        "xt = np.linspace(0.0, 4.0, 5)\n",
        "yt = np.array([0.0, 1.0, 1.5, 0.9, 1])\n",
        "\n",
        "sm = KRG(theta0 = [1e-2])\n",
        "sm.set_training_values(xt, yt)\n",
        "sm.train()\n",
        "\n",
        "num = 100\n",
        "x_test = np.linspace(0.0, 4.0, num)\n",
        "y = sm.predict_values(x_test)\n",
        "\n",
        "#estimte variance\n",
        "s2 = sm.predict_variances(x)\n",
        "#derivative according to the first variable\n",
        "dydx = sm.predict_derivatives(xt, 0)\n",
        "\n",
        "fig, axs = plt.subplots(1)\n",
        "#add a plot with variance\n",
        "axs.plot(xt, yt, 'o')\n",
        "axs.plot(x, y)\n",
        "axs.fill_between(\n",
        "    np.ravel(x_test),\n",
        "    np.ravel(y - 3 * np.sqrt(s2)),\n",
        "    np.ravel(y + 3 * np.sqrt(s2)),\n",
        "    color=\"lightgrey\",\n",
        ")\n",
        "axs.set_xlabel(\"x\")\n",
        "axs.set_ylabel(\"y\")\n",
        "axs.legend(\n",
        "    [\"Training data\", \"Prediction\", \"Confidence Interval 99%\"],\n",
        "    loc=\"lower right\",\n",
        ")\n",
        "\n",
        "plt.show()"
      ],
      "execution_count": 15,
      "outputs": [
        {
          "output_type": "stream",
          "text": [
            "___________________________________________________________________________\n",
            "   \n",
            "                                  Kriging\n",
            "___________________________________________________________________________\n",
            "   \n",
            " Problem size\n",
            "   \n",
            "      # training points.        : 5\n",
            "   \n",
            "___________________________________________________________________________\n",
            "   \n",
            " Training\n",
            "   \n",
            "   Training ...\n",
            "   Training - done. Time (sec):  0.0443945\n",
            "___________________________________________________________________________\n",
            "   \n",
            " Evaluation\n",
            "   \n",
            "      # eval points. : 100\n",
            "   \n",
            "   Predicting ...\n",
            "   Predicting - done. Time (sec):  0.0003428\n",
            "   \n",
            "   Prediction time/pt. (sec) :  0.0000034\n",
            "   \n",
            "___________________________________________________________________________\n",
            "   \n",
            " Evaluation\n",
            "   \n",
            "      # eval points. : 5\n",
            "   \n",
            "   Predicting ...\n",
            "   Predicting - done. Time (sec):  0.0002759\n",
            "   \n",
            "   Prediction time/pt. (sec) :  0.0000552\n",
            "   \n"
          ],
          "name": "stdout"
        },
        {
          "output_type": "display_data",
          "data": {
            "image/png": "[encoded data removed]",
            "text/plain": [
              "<Figure size 432x288 with 1 Axes>"
            ]
          },
          "metadata": {
            "tags": [],
            "needs_background": "light"
          }
        }
      ]
    },
    {
      "cell_type": "code",
      "metadata": {
        "colab": {
          "base_uri": "https://localhost:8080/",
          "height": 475
        },
        "id": "d6VC2m2QEMb7",
        "outputId": "85826a1e-9ff4-4062-824d-550ba5e1db4d"
      },
      "source": [
        "import numpy as np\n",
        "import matplotlib.pyplot as plt\n",
        "\n",
        "from smt.surrogate_models import KRG\n",
        "from smt.applications.mixed_integer import MixedIntegerSurrogateModel, INT\n",
        "\n",
        "xt = np.array([0.0, 2.0, 3.0])\n",
        "yt = np.array([0.0, 1.5, 0.9])\n",
        "\n",
        "# xtypes = [FLOAT, INT, (ENUM, 3), (ENUM, 2)]\n",
        "# FLOAT means x1 continuous\n",
        "# INT means x2 integer\n",
        "# (ENUM, 3) means x3, x4 & x5 are 3 levels of the same categorical variable\n",
        "# (ENUM, 2) means x6 & x7 are 2 levels of the same categorical variable\n",
        "\n",
        "sm = MixedIntegerSurrogateModel(\n",
        "    xtypes=[INT], xlimits=[[0, 4]], surrogate=KRG(theta0=[1e-2])\n",
        ")\n",
        "sm.set_training_values(xt, yt)\n",
        "sm.train()\n",
        "\n",
        "num = 500\n",
        "x = np.linspace(0.0, 4.0, num)\n",
        "y = sm.predict_values(x)\n",
        "# estimated variance\n",
        "s2 = sm.predict_variances(x)\n",
        "\n",
        "fig, axs = plt.subplots(1)\n",
        "axs.plot(xt, yt, \"o\")\n",
        "axs.plot(x, y)\n",
        "axs.fill_between(\n",
        "    np.ravel(x),\n",
        "    np.ravel(y - 3 * np.sqrt(s2)),\n",
        "    np.ravel(y + 3 * np.sqrt(s2)),\n",
        "    color=\"lightgrey\",\n",
        ")\n",
        "axs.set_xlabel(\"x\")\n",
        "axs.set_ylabel(\"y\")\n",
        "axs.legend(\n",
        "    [\"Training data\", \"Prediction\", \"Confidence Interval 99%\"],\n",
        "    loc=\"lower right\",\n",
        ")\n",
        "\n",
        "plt.show()"
      ],
      "execution_count": 16,
      "outputs": [
        {
          "output_type": "stream",
          "text": [
            "___________________________________________________________________________\n",
            "   \n",
            " Evaluation\n",
            "   \n",
            "      # eval points. : 500\n",
            "   \n",
            "   Predicting ...\n",
            "   Predicting - done. Time (sec):  0.0006292\n",
            "   \n",
            "   Prediction time/pt. (sec) :  0.0000013\n",
            "   \n"
          ],
          "name": "stdout"
        },
        {
          "output_type": "display_data",
          "data": {
            "image/png": "[encoded data removed]",
            "text/plain": [
              "<Figure size 432x288 with 1 Axes>"
            ]
          },
          "metadata": {
            "tags": [],
            "needs_background": "light"
          }
        }
      ]
    },
    {
      "cell_type": "markdown",
      "metadata": {
        "id": "tqYhJJE0FIGS"
      },
      "source": [
        "Reference: https://smt.readthedocs.io/en/latest/_src_docs/surrogate_models.html"
      ]
    }
  ]
}